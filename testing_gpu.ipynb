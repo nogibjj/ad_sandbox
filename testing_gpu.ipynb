{
 "cells": [
  {
   "cell_type": "markdown",
   "metadata": {},
   "source": [
    "# Set up new Torch GPU env\n",
    "## New conda env\n",
    "`conda create -n torch-gpu python=3.8`\n",
    "`conda activate torch-gpu`\n",
    "\n",
    "## Install PyTorch nightly\n",
    "`conda install pytorch torchvision torchaudio -c pytorch-nightly`\n",
    "`conda install -n torch-gpu ipykernel --update-deps --force-reinstall`\n"
   ]
  },
  {
   "cell_type": "code",
   "execution_count": 1,
   "metadata": {},
   "outputs": [
    {
     "name": "stdout",
     "output_type": "stream",
     "text": [
      "True\n",
      "True\n"
     ]
    }
   ],
   "source": [
    "# test GPU is available\n",
    "import torch\n",
    "import math\n",
    "# this ensures that the current MacOS version is at least 12.3+\n",
    "print(torch.backends.mps.is_available())\n",
    "# this ensures that the current current PyTorch installation was built with MPS activated.\n",
    "print(torch.backends.mps.is_built())"
   ]
  },
  {
   "cell_type": "code",
   "execution_count": 2,
   "metadata": {},
   "outputs": [
    {
     "name": "stdout",
     "output_type": "stream",
     "text": [
      "99 2227.208251953125\n",
      "199 1532.0771484375\n",
      "299 1055.947998046875\n",
      "399 729.450439453125\n",
      "499 505.30401611328125\n",
      "599 351.24993896484375\n",
      "699 245.2506561279297\n",
      "799 172.23532104492188\n",
      "899 121.88504028320312\n",
      "999 87.12703704833984\n",
      "1099 63.10728073120117\n",
      "1199 46.49107360839844\n",
      "1299 34.984832763671875\n",
      "1399 27.009231567382812\n",
      "1499 21.475540161132812\n",
      "1599 17.63253402709961\n",
      "1699 14.961262702941895\n",
      "1799 13.102811813354492\n",
      "1899 11.808754920959473\n",
      "1999 10.906957626342773\n",
      "Result: y = 0.04366664960980415 + 0.8758867383003235 x + -0.00753322197124362 x^2 + -0.09605374187231064 x^3\n"
     ]
    }
   ],
   "source": [
    "dtype = torch.float\n",
    "device = torch.device(\"mps\")\n",
    "\n",
    "# Create random input and output data\n",
    "x = torch.linspace(-math.pi, math.pi, 2000, device=device, dtype=dtype)\n",
    "y = torch.sin(x)\n",
    "\n",
    "# Randomly initialize weights\n",
    "a = torch.randn((), device=device, dtype=dtype)\n",
    "b = torch.randn((), device=device, dtype=dtype)\n",
    "c = torch.randn((), device=device, dtype=dtype)\n",
    "d = torch.randn((), device=device, dtype=dtype)\n",
    "\n",
    "learning_rate = 1e-6\n",
    "for t in range(2000):\n",
    "    # Forward pass: compute predicted y\n",
    "    y_pred = a + b * x + c * x ** 2 + d * x ** 3\n",
    "\n",
    "    # Compute and print loss\n",
    "    loss = (y_pred - y).pow(2).sum().item()\n",
    "    if t % 100 == 99:\n",
    "        print(t, loss)\n",
    "\n",
    "# Backprop to compute gradients of a, b, c, d with respect to loss\n",
    "    grad_y_pred = 2.0 * (y_pred - y)\n",
    "    grad_a = grad_y_pred.sum()\n",
    "    grad_b = (grad_y_pred * x).sum()\n",
    "    grad_c = (grad_y_pred * x ** 2).sum()\n",
    "    grad_d = (grad_y_pred * x ** 3).sum()\n",
    "\n",
    "    # Update weights using gradient descent\n",
    "    a -= learning_rate * grad_a\n",
    "    b -= learning_rate * grad_b\n",
    "    c -= learning_rate * grad_c\n",
    "    d -= learning_rate * grad_d\n",
    "\n",
    "\n",
    "print(f'Result: y = {a.item()} + {b.item()} x + {c.item()} x^2 + {d.item()} x^3')"
   ]
  },
  {
   "cell_type": "code",
   "execution_count": null,
   "metadata": {},
   "outputs": [],
   "source": []
  }
 ],
 "metadata": {
  "kernelspec": {
   "display_name": "Python 3.10.6 ('torch-gpu')",
   "language": "python",
   "name": "python3"
  },
  "language_info": {
   "codemirror_mode": {
    "name": "ipython",
    "version": 3
   },
   "file_extension": ".py",
   "mimetype": "text/x-python",
   "name": "python",
   "nbconvert_exporter": "python",
   "pygments_lexer": "ipython3",
   "version": "3.10.6"
  },
  "orig_nbformat": 4,
  "vscode": {
   "interpreter": {
    "hash": "3ef6113487b0f93ddc4b02edfad3a7dca5ebddec0539a0befd90a864cffb93d5"
   }
  }
 },
 "nbformat": 4,
 "nbformat_minor": 2
}
